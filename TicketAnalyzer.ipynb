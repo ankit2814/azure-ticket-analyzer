{
  "cells": [
    {
      "cell_type": "code",
      "source": [
        "!pip install azure-ai-textanalytics --upgrade\n",
        "!pip install scikit-learn matplotlib pandas"
      ],
      "outputs": [
        {
          "output_type": "stream",
          "name": "stdout",
          "text": "Requirement already satisfied: azure-ai-textanalytics in /anaconda/envs/azureml_py38/lib/python3.10/site-packages (5.3.0)\nRequirement already satisfied: azure-core<2.0.0,>=1.24.0 in /anaconda/envs/azureml_py38/lib/python3.10/site-packages (from azure-ai-textanalytics) (1.33.0)\nRequirement already satisfied: isodate<1.0.0,>=0.6.1 in /anaconda/envs/azureml_py38/lib/python3.10/site-packages (from azure-ai-textanalytics) (0.7.2)\nRequirement already satisfied: typing-extensions>=4.0.1 in /anaconda/envs/azureml_py38/lib/python3.10/site-packages (from azure-ai-textanalytics) (4.14.1)\nRequirement already satisfied: azure-common~=1.1 in /anaconda/envs/azureml_py38/lib/python3.10/site-packages (from azure-ai-textanalytics) (1.1.28)\nRequirement already satisfied: requests>=2.21.0 in /anaconda/envs/azureml_py38/lib/python3.10/site-packages (from azure-core<2.0.0,>=1.24.0->azure-ai-textanalytics) (2.32.4)\nRequirement already satisfied: six>=1.11.0 in /anaconda/envs/azureml_py38/lib/python3.10/site-packages (from azure-core<2.0.0,>=1.24.0->azure-ai-textanalytics) (1.17.0)\nRequirement already satisfied: urllib3<3,>=1.21.1 in /anaconda/envs/azureml_py38/lib/python3.10/site-packages (from requests>=2.21.0->azure-core<2.0.0,>=1.24.0->azure-ai-textanalytics) (2.5.0)\nRequirement already satisfied: idna<4,>=2.5 in /anaconda/envs/azureml_py38/lib/python3.10/site-packages (from requests>=2.21.0->azure-core<2.0.0,>=1.24.0->azure-ai-textanalytics) (3.10)\nRequirement already satisfied: charset_normalizer<4,>=2 in /anaconda/envs/azureml_py38/lib/python3.10/site-packages (from requests>=2.21.0->azure-core<2.0.0,>=1.24.0->azure-ai-textanalytics) (3.4.2)\nRequirement already satisfied: certifi>=2017.4.17 in /anaconda/envs/azureml_py38/lib/python3.10/site-packages (from requests>=2.21.0->azure-core<2.0.0,>=1.24.0->azure-ai-textanalytics) (2025.7.9)\nRequirement already satisfied: scikit-learn in /anaconda/envs/azureml_py38/lib/python3.10/site-packages (1.5.1)\nRequirement already satisfied: matplotlib in /anaconda/envs/azureml_py38/lib/python3.10/site-packages (3.7.1)\nRequirement already satisfied: pandas in /anaconda/envs/azureml_py38/lib/python3.10/site-packages (1.5.3)\nRequirement already satisfied: scipy>=1.6.0 in /anaconda/envs/azureml_py38/lib/python3.10/site-packages (from scikit-learn) (1.11.0)\nRequirement already satisfied: joblib>=1.2.0 in /anaconda/envs/azureml_py38/lib/python3.10/site-packages (from scikit-learn) (1.2.0)\nRequirement already satisfied: threadpoolctl>=3.1.0 in /anaconda/envs/azureml_py38/lib/python3.10/site-packages (from scikit-learn) (3.6.0)\nRequirement already satisfied: numpy>=1.19.5 in /anaconda/envs/azureml_py38/lib/python3.10/site-packages (from scikit-learn) (1.23.5)\nRequirement already satisfied: packaging>=20.0 in /anaconda/envs/azureml_py38/lib/python3.10/site-packages (from matplotlib) (25.0)\nRequirement already satisfied: kiwisolver>=1.0.1 in /anaconda/envs/azureml_py38/lib/python3.10/site-packages (from matplotlib) (1.4.8)\nRequirement already satisfied: pillow>=6.2.0 in /anaconda/envs/azureml_py38/lib/python3.10/site-packages (from matplotlib) (9.2.0)\nRequirement already satisfied: pyparsing>=2.3.1 in /anaconda/envs/azureml_py38/lib/python3.10/site-packages (from matplotlib) (3.2.3)\nRequirement already satisfied: contourpy>=1.0.1 in /anaconda/envs/azureml_py38/lib/python3.10/site-packages (from matplotlib) (1.3.1)\nRequirement already satisfied: cycler>=0.10 in /anaconda/envs/azureml_py38/lib/python3.10/site-packages (from matplotlib) (0.12.1)\nRequirement already satisfied: fonttools>=4.22.0 in /anaconda/envs/azureml_py38/lib/python3.10/site-packages (from matplotlib) (4.51.0)\nRequirement already satisfied: python-dateutil>=2.7 in /anaconda/envs/azureml_py38/lib/python3.10/site-packages (from matplotlib) (2.9.0.post0)\nRequirement already satisfied: pytz>=2020.1 in /anaconda/envs/azureml_py38/lib/python3.10/site-packages (from pandas) (2022.5)\nRequirement already satisfied: six>=1.5 in /anaconda/envs/azureml_py38/lib/python3.10/site-packages (from python-dateutil>=2.7->matplotlib) (1.17.0)\n"
        }
      ],
      "execution_count": 1,
      "metadata": {}
    },
    {
      "cell_type": "code",
      "source": [
        "import sys\n",
        "import subprocess\n",
        "\n",
        "print(\"Uninstalling conflicting mlflow packages...\")\n",
        "# Uninstall both versions\n",
        "subprocess.check_call([sys.executable, \"-m\", \"pip\", \"uninstall\", \"mlflow\", \"mlflow-skinny\", \"-y\"])\n",
        "\n",
        "print(\"Re-installing a fresh, stable version of mlflow...\")\n",
        "# Install one fresh, stable version\n",
        "subprocess.check_call([sys.executable, \"-m\", \"pip\", \"install\", \"mlflow==2.13.1\"])\n",
        "\n",
        "print(\"Install complete. PLEASE RESTART THE KERNEL NOW.\")"
      ],
      "outputs": [
        {
          "output_type": "stream",
          "name": "stdout",
          "text": "Uninstalling conflicting mlflow packages...\nCollecting mlflow==2.13.1\n  Using cached mlflow-2.13.1-py3-none-any.whl.metadata (29 kB)\nRequirement already satisfied: Flask<4 in /anaconda/envs/azureml_py310_sdkv2/lib/python3.10/site-packages (from mlflow==2.13.1) (3.1.1)\nRequirement already satisfied: alembic!=1.10.0,<2 in /anaconda/envs/azureml_py310_sdkv2/lib/python3.10/site-packages (from mlflow==2.13.1) (1.16.4)\nRequirement already satisfied: cachetools<6,>=5.0.0 in /anaconda/envs/azureml_py310_sdkv2/lib/python3.10/site-packages (from mlflow==2.13.1) (5.5.2)\nRequirement already satisfied: click<9,>=7.0 in /anaconda/envs/azureml_py310_sdkv2/lib/python3.10/site-packages (from mlflow==2.13.1) (8.2.1)\nRequirement already satisfied: cloudpickle<4 in /anaconda/envs/azureml_py310_sdkv2/lib/python3.10/site-packages (from mlflow==2.13.1) (2.2.1)\nRequirement already satisfied: docker<8,>=4.0.0 in /anaconda/envs/azureml_py310_sdkv2/lib/python3.10/site-packages (from mlflow==2.13.1) (7.1.0)\nRequirement already satisfied: entrypoints<1 in /anaconda/envs/azureml_py310_sdkv2/lib/python3.10/site-packages (from mlflow==2.13.1) (0.4)\nRequirement already satisfied: gitpython<4,>=3.1.9 in /anaconda/envs/azureml_py310_sdkv2/lib/python3.10/site-packages (from mlflow==2.13.1) (3.1.44)\nRequirement already satisfied: graphene<4 in /anaconda/envs/azureml_py310_sdkv2/lib/python3.10/site-packages (from mlflow==2.13.1) (3.4.3)\nRequirement already satisfied: importlib-metadata!=4.7.0,<8,>=3.7.0 in /anaconda/envs/azureml_py310_sdkv2/lib/python3.10/site-packages (from mlflow==2.13.1) (7.2.1)\nRequirement already satisfied: markdown<4,>=3.3 in /anaconda/envs/azureml_py310_sdkv2/lib/python3.10/site-packages (from mlflow==2.13.1) (3.9)\nRequirement already satisfied: matplotlib<4 in /anaconda/envs/azureml_py310_sdkv2/lib/python3.10/site-packages (from mlflow==2.13.1) (3.10.3)\nRequirement already satisfied: numpy<2 in /anaconda/envs/azureml_py310_sdkv2/lib/python3.10/site-packages (from mlflow==2.13.1) (1.23.5)\nRequirement already satisfied: opentelemetry-api<3,>=1.0.0 in /anaconda/envs/azureml_py310_sdkv2/lib/python3.10/site-packages (from mlflow==2.13.1) (1.31.1)\nRequirement already satisfied: opentelemetry-sdk<3,>=1.0.0 in /anaconda/envs/azureml_py310_sdkv2/lib/python3.10/site-packages (from mlflow==2.13.1) (1.31.1)\nRequirement already satisfied: packaging<25 in /anaconda/envs/azureml_py310_sdkv2/lib/python3.10/site-packages (from mlflow==2.13.1) (24.2)\nRequirement already satisfied: pandas<3 in /anaconda/envs/azureml_py310_sdkv2/lib/python3.10/site-packages (from mlflow==2.13.1) (1.5.3)\nRequirement already satisfied: protobuf<5,>=3.12.0 in /anaconda/envs/azureml_py310_sdkv2/lib/python3.10/site-packages (from mlflow==2.13.1) (4.25.8)\nRequirement already satisfied: pyarrow<16,>=4.0.0 in /anaconda/envs/azureml_py310_sdkv2/lib/python3.10/site-packages (from mlflow==2.13.1) (15.0.2)\nRequirement already satisfied: pytz<2025 in /anaconda/envs/azureml_py310_sdkv2/lib/python3.10/site-packages (from mlflow==2.13.1) (2024.2)\nRequirement already satisfied: pyyaml<7,>=5.1 in /anaconda/envs/azureml_py310_sdkv2/lib/python3.10/site-packages (from mlflow==2.13.1) (6.0.2)\nRequirement already satisfied: querystring-parser<2 in /anaconda/envs/azureml_py310_sdkv2/lib/python3.10/site-packages (from mlflow==2.13.1) (1.2.4)\nRequirement already satisfied: requests<3,>=2.17.3 in /anaconda/envs/azureml_py310_sdkv2/lib/python3.10/site-packages (from mlflow==2.13.1) (2.32.4)\nRequirement already satisfied: scikit-learn<2 in /anaconda/envs/azureml_py310_sdkv2/lib/python3.10/site-packages (from mlflow==2.13.1) (1.7.0)\nRequirement already satisfied: scipy<2 in /anaconda/envs/azureml_py310_sdkv2/lib/python3.10/site-packages (from mlflow==2.13.1) (1.15.3)\nRequirement already satisfied: sqlalchemy<3,>=1.4.0 in /anaconda/envs/azureml_py310_sdkv2/lib/python3.10/site-packages (from mlflow==2.13.1) (2.0.41)\nRequirement already satisfied: sqlparse<1,>=0.4.0 in /anaconda/envs/azureml_py310_sdkv2/lib/python3.10/site-packages (from mlflow==2.13.1) (0.5.3)\nRequirement already satisfied: Jinja2<4,>=2.11 in /anaconda/envs/azureml_py310_sdkv2/lib/python3.10/site-packages (from mlflow==2.13.1) (3.1.6)\nRequirement already satisfied: gunicorn<23 in /anaconda/envs/azureml_py310_sdkv2/lib/python3.10/site-packages (from mlflow==2.13.1) (22.0.0)\nRequirement already satisfied: Mako in /anaconda/envs/azureml_py310_sdkv2/lib/python3.10/site-packages (from alembic!=1.10.0,<2->mlflow==2.13.1) (1.3.10)\nRequirement already satisfied: typing-extensions>=4.12 in /anaconda/envs/azureml_py310_sdkv2/lib/python3.10/site-packages (from alembic!=1.10.0,<2->mlflow==2.13.1) (4.14.1)\nRequirement already satisfied: tomli in /anaconda/envs/azureml_py310_sdkv2/lib/python3.10/site-packages (from alembic!=1.10.0,<2->mlflow==2.13.1) (2.2.1)\nRequirement already satisfied: urllib3>=1.26.0 in /anaconda/envs/azureml_py310_sdkv2/lib/python3.10/site-packages (from docker<8,>=4.0.0->mlflow==2.13.1) (2.5.0)\nRequirement already satisfied: blinker>=1.9.0 in /anaconda/envs/azureml_py310_sdkv2/lib/python3.10/site-packages (from Flask<4->mlflow==2.13.1) (1.9.0)\nRequirement already satisfied: itsdangerous>=2.2.0 in /anaconda/envs/azureml_py310_sdkv2/lib/python3.10/site-packages (from Flask<4->mlflow==2.13.1) (2.2.0)\nRequirement already satisfied: markupsafe>=2.1.1 in /anaconda/envs/azureml_py310_sdkv2/lib/python3.10/site-packages (from Flask<4->mlflow==2.13.1) (3.0.2)\nRequirement already satisfied: werkzeug>=3.1.0 in /anaconda/envs/azureml_py310_sdkv2/lib/python3.10/site-packages (from Flask<4->mlflow==2.13.1) (3.1.3)\nRequirement already satisfied: gitdb<5,>=4.0.1 in /anaconda/envs/azureml_py310_sdkv2/lib/python3.10/site-packages (from gitpython<4,>=3.1.9->mlflow==2.13.1) (4.0.12)\nRequirement already satisfied: smmap<6,>=3.0.1 in /anaconda/envs/azureml_py310_sdkv2/lib/python3.10/site-packages (from gitdb<5,>=4.0.1->gitpython<4,>=3.1.9->mlflow==2.13.1) (5.0.2)\nRequirement already satisfied: graphql-core<3.3,>=3.1 in /anaconda/envs/azureml_py310_sdkv2/lib/python3.10/site-packages (from graphene<4->mlflow==2.13.1) (3.2.6)\nRequirement already satisfied: graphql-relay<3.3,>=3.1 in /anaconda/envs/azureml_py310_sdkv2/lib/python3.10/site-packages (from graphene<4->mlflow==2.13.1) (3.2.0)\nRequirement already satisfied: python-dateutil<3,>=2.7.0 in /anaconda/envs/azureml_py310_sdkv2/lib/python3.10/site-packages (from graphene<4->mlflow==2.13.1) (2.9.0.post0)\nRequirement already satisfied: zipp>=0.5 in /anaconda/envs/azureml_py310_sdkv2/lib/python3.10/site-packages (from importlib-metadata!=4.7.0,<8,>=3.7.0->mlflow==2.13.1) (3.23.0)\nRequirement already satisfied: contourpy>=1.0.1 in /anaconda/envs/azureml_py310_sdkv2/lib/python3.10/site-packages (from matplotlib<4->mlflow==2.13.1) (1.3.2)\nRequirement already satisfied: cycler>=0.10 in /anaconda/envs/azureml_py310_sdkv2/lib/python3.10/site-packages (from matplotlib<4->mlflow==2.13.1) (0.12.1)\nRequirement already satisfied: fonttools>=4.22.0 in /anaconda/envs/azureml_py310_sdkv2/lib/python3.10/site-packages (from matplotlib<4->mlflow==2.13.1) (4.58.5)\nRequirement already satisfied: kiwisolver>=1.3.1 in /anaconda/envs/azureml_py310_sdkv2/lib/python3.10/site-packages (from matplotlib<4->mlflow==2.13.1) (1.4.8)\nRequirement already satisfied: pillow>=8 in /anaconda/envs/azureml_py310_sdkv2/lib/python3.10/site-packages (from matplotlib<4->mlflow==2.13.1) (11.3.0)\nRequirement already satisfied: pyparsing>=2.3.1 in /anaconda/envs/azureml_py310_sdkv2/lib/python3.10/site-packages (from matplotlib<4->mlflow==2.13.1) (3.2.3)\nRequirement already satisfied: deprecated>=1.2.6 in /anaconda/envs/azureml_py310_sdkv2/lib/python3.10/site-packages (from opentelemetry-api<3,>=1.0.0->mlflow==2.13.1) (1.2.18)\nRequirement already satisfied: opentelemetry-semantic-conventions==0.52b1 in /anaconda/envs/azureml_py310_sdkv2/lib/python3.10/site-packages (from opentelemetry-sdk<3,>=1.0.0->mlflow==2.13.1) (0.52b1)\nRequirement already satisfied: six>=1.5 in /anaconda/envs/azureml_py310_sdkv2/lib/python3.10/site-packages (from python-dateutil<3,>=2.7.0->graphene<4->mlflow==2.13.1) (1.17.0)\nRequirement already satisfied: charset_normalizer<4,>=2 in /anaconda/envs/azureml_py310_sdkv2/lib/python3.10/site-packages (from requests<3,>=2.17.3->mlflow==2.13.1) (3.4.2)\nRequirement already satisfied: idna<4,>=2.5 in /anaconda/envs/azureml_py310_sdkv2/lib/python3.10/site-packages (from requests<3,>=2.17.3->mlflow==2.13.1) (3.10)\nRequirement already satisfied: certifi>=2017.4.17 in /anaconda/envs/azureml_py310_sdkv2/lib/python3.10/site-packages (from requests<3,>=2.17.3->mlflow==2.13.1) (2025.7.9)\nRequirement already satisfied: joblib>=1.2.0 in /anaconda/envs/azureml_py310_sdkv2/lib/python3.10/site-packages (from scikit-learn<2->mlflow==2.13.1) (1.5.1)\nRequirement already satisfied: threadpoolctl>=3.1.0 in /anaconda/envs/azureml_py310_sdkv2/lib/python3.10/site-packages (from scikit-learn<2->mlflow==2.13.1) (3.6.0)\nRequirement already satisfied: greenlet>=1 in /anaconda/envs/azureml_py310_sdkv2/lib/python3.10/site-packages (from sqlalchemy<3,>=1.4.0->mlflow==2.13.1) (3.2.3)\nRequirement already satisfied: wrapt<2,>=1.10 in /anaconda/envs/azureml_py310_sdkv2/lib/python3.10/site-packages (from deprecated>=1.2.6->opentelemetry-api<3,>=1.0.0->mlflow==2.13.1) (1.17.2)\nUsing cached mlflow-2.13.1-py3-none-any.whl (25.0 MB)\nInstalling collected packages: mlflow\n"
        },
        {
          "output_type": "stream",
          "name": "stderr",
          "text": "\u001b[33mWARNING: Skipping mlflow-skinny as it is not installed.\u001b[0m\u001b[33m\n\u001b[0m\n\u001b[1m[\u001b[0m\u001b[34;49mnotice\u001b[0m\u001b[1;39;49m]\u001b[0m\u001b[39;49m A new release of pip is available: \u001b[0m\u001b[31;49m25.1.1\u001b[0m\u001b[39;49m -> \u001b[0m\u001b[32;49m25.3\u001b[0m\n\u001b[1m[\u001b[0m\u001b[34;49mnotice\u001b[0m\u001b[1;39;49m]\u001b[0m\u001b[39;49m To update, run: \u001b[0m\u001b[32;49m/anaconda/envs/azureml_py310_sdkv2/bin/python -m pip install --upgrade pip\u001b[0m\n"
        }
      ],
      "execution_count": 2,
      "metadata": {
        "gather": {
          "logged": 1761675683485
        }
      }
    },
    {
      "cell_type": "code",
      "source": [
        "\n",
        "import pandas as pd\n",
        "from azure.ai.ml import MLClient\n",
        "from azure.identity import DefaultAzureCredential\n",
        "\n",
        "ml_client = MLClient.from_config(credential=DefaultAzureCredential())\n",
        "data_asset = ml_client.data.get(\"support-tickets\", version=\"1\")\n",
        "\n",
        "df = pd.read_csv(data_asset.path)\n",
        "df"
      ],
      "outputs": [
        {
          "output_type": "stream",
          "name": "stderr",
          "text": "Found the config file in: /config.json\nOverriding of current TracerProvider is not allowed\nOverriding of current LoggerProvider is not allowed\nOverriding of current MeterProvider is not allowed\nAttempting to instrument while already instrumented\nAttempting to instrument while already instrumented\nAttempting to instrument while already instrumented\nAttempting to instrument while already instrumented\nAttempting to instrument while already instrumented\nTimeout was exceeded in force_flush().\nOverriding of current TracerProvider is not allowed\nOverriding of current LoggerProvider is not allowed\nOverriding of current MeterProvider is not allowed\nAttempting to instrument while already instrumented\nAttempting to instrument while already instrumented\nAttempting to instrument while already instrumented\nAttempting to instrument while already instrumented\nAttempting to instrument while already instrumented\n"
        },
        {
          "output_type": "execute_result",
          "execution_count": 3,
          "data": {
            "text/plain": "      Ticket ID        Customer Name              Customer Email  \\\n0             1        Marisa Obrien  carrollallison@example.com   \n1             2         Jessica Rios    clarkeashley@example.com   \n2             3  Christopher Robbins   gonzalestracy@example.com   \n3             4     Christina Dillon    bradleyolson@example.org   \n4             5    Alexander Carroll     bradleymark@example.com   \n...         ...                  ...                         ...   \n8464       8465           David Todd          adam28@example.net   \n8465       8466           Lori Davis       russell68@example.com   \n8466       8467      Michelle Kelley        ashley83@example.org   \n8467       8468     Steven Rodriguez         fpowell@example.org   \n8468       8469      Steven Davis MD          lori20@example.net   \n\n      Customer Age Customer Gender       Product Purchased Date of Purchase  \\\n0               32           Other              GoPro Hero       2021-03-22   \n1               42          Female             LG Smart TV       2021-05-22   \n2               48           Other                Dell XPS       2020-07-14   \n3               27          Female        Microsoft Office       2020-11-13   \n4               67          Female        Autodesk AutoCAD       2020-02-04   \n...            ...             ...                     ...              ...   \n8464            22          Female                 LG OLED       2021-12-08   \n8465            27          Female  Bose SoundLink Speaker       2020-02-22   \n8466            57          Female     GoPro Action Camera       2021-08-17   \n8467            54            Male             PlayStation       2021-10-16   \n8468            53           Other      Philips Hue Lights       2020-06-01   \n\n          Ticket Type            Ticket Subject  \\\n0     Technical issue             Product setup   \n1     Technical issue  Peripheral compatibility   \n2     Technical issue           Network problem   \n3     Billing inquiry            Account access   \n4     Billing inquiry                 Data loss   \n...               ...                       ...   \n8464  Product inquiry      Installation support   \n8465  Technical issue            Refund request   \n8466  Technical issue            Account access   \n8467  Product inquiry             Payment issue   \n8468  Billing inquiry            Hardware issue   \n\n                                     Ticket Description  \\\n0     I'm having an issue with the {product_purchase...   \n1     I'm having an issue with the {product_purchase...   \n2     I'm facing a problem with my {product_purchase...   \n3     I'm having an issue with the {product_purchase...   \n4     I'm having an issue with the {product_purchase...   \n...                                                 ...   \n8464  My {product_purchased} is making strange noise...   \n8465  I'm having an issue with the {product_purchase...   \n8466  I'm having an issue with the {product_purchase...   \n8467  I'm having an issue with the {product_purchase...   \n8468  There seems to be a hardware problem with my {...   \n\n                  Ticket Status  \\\n0     Pending Customer Response   \n1     Pending Customer Response   \n2                        Closed   \n3                        Closed   \n4                        Closed   \n...                         ...   \n8464                       Open   \n8465                       Open   \n8466                     Closed   \n8467                     Closed   \n8468                       Open   \n\n                                         Resolution Ticket Priority  \\\n0                                               NaN        Critical   \n1                                               NaN        Critical   \n2      Case maybe show recently my computer follow.             Low   \n3     Try capital clearly never color toward story.             Low   \n4                       West decision evidence bit.             Low   \n...                                             ...             ...   \n8464                                            NaN             Low   \n8465                                            NaN        Critical   \n8466          Eight account century nature kitchen.            High   \n8467                          We seat culture plan.          Medium   \n8468                                            NaN            High   \n\n     Ticket Channel  First Response Time   Time to Resolution  \\\n0      Social media  2023-06-01 12:15:36                  NaN   \n1              Chat  2023-06-01 16:45:38                  NaN   \n2      Social media  2023-06-01 11:14:38  2023-06-01 18:05:38   \n3      Social media  2023-06-01 07:29:40  2023-06-01 01:57:40   \n4             Email  2023-06-01 00:12:42  2023-06-01 19:53:42   \n...             ...                  ...                  ...   \n8464          Phone                  NaN                  NaN   \n8465          Email                  NaN                  NaN   \n8466   Social media  2023-06-01 09:44:22  2023-06-01 04:31:22   \n8467          Email  2023-06-01 18:28:24  2023-06-01 05:32:24   \n8468          Phone                  NaN                  NaN   \n\n      Customer Satisfaction Rating  \n0                              NaN  \n1                              NaN  \n2                              3.0  \n3                              3.0  \n4                              1.0  \n...                            ...  \n8464                           NaN  \n8465                           NaN  \n8466                           3.0  \n8467                           3.0  \n8468                           NaN  \n\n[8469 rows x 17 columns]",
            "text/html": "<div>\n<style scoped>\n    .dataframe tbody tr th:only-of-type {\n        vertical-align: middle;\n    }\n\n    .dataframe tbody tr th {\n        vertical-align: top;\n    }\n\n    .dataframe thead th {\n        text-align: right;\n    }\n</style>\n<table border=\"1\" class=\"dataframe\">\n  <thead>\n    <tr style=\"text-align: right;\">\n      <th></th>\n      <th>Ticket ID</th>\n      <th>Customer Name</th>\n      <th>Customer Email</th>\n      <th>Customer Age</th>\n      <th>Customer Gender</th>\n      <th>Product Purchased</th>\n      <th>Date of Purchase</th>\n      <th>Ticket Type</th>\n      <th>Ticket Subject</th>\n      <th>Ticket Description</th>\n      <th>Ticket Status</th>\n      <th>Resolution</th>\n      <th>Ticket Priority</th>\n      <th>Ticket Channel</th>\n      <th>First Response Time</th>\n      <th>Time to Resolution</th>\n      <th>Customer Satisfaction Rating</th>\n    </tr>\n  </thead>\n  <tbody>\n    <tr>\n      <th>0</th>\n      <td>1</td>\n      <td>Marisa Obrien</td>\n      <td>carrollallison@example.com</td>\n      <td>32</td>\n      <td>Other</td>\n      <td>GoPro Hero</td>\n      <td>2021-03-22</td>\n      <td>Technical issue</td>\n      <td>Product setup</td>\n      <td>I'm having an issue with the {product_purchase...</td>\n      <td>Pending Customer Response</td>\n      <td>NaN</td>\n      <td>Critical</td>\n      <td>Social media</td>\n      <td>2023-06-01 12:15:36</td>\n      <td>NaN</td>\n      <td>NaN</td>\n    </tr>\n    <tr>\n      <th>1</th>\n      <td>2</td>\n      <td>Jessica Rios</td>\n      <td>clarkeashley@example.com</td>\n      <td>42</td>\n      <td>Female</td>\n      <td>LG Smart TV</td>\n      <td>2021-05-22</td>\n      <td>Technical issue</td>\n      <td>Peripheral compatibility</td>\n      <td>I'm having an issue with the {product_purchase...</td>\n      <td>Pending Customer Response</td>\n      <td>NaN</td>\n      <td>Critical</td>\n      <td>Chat</td>\n      <td>2023-06-01 16:45:38</td>\n      <td>NaN</td>\n      <td>NaN</td>\n    </tr>\n    <tr>\n      <th>2</th>\n      <td>3</td>\n      <td>Christopher Robbins</td>\n      <td>gonzalestracy@example.com</td>\n      <td>48</td>\n      <td>Other</td>\n      <td>Dell XPS</td>\n      <td>2020-07-14</td>\n      <td>Technical issue</td>\n      <td>Network problem</td>\n      <td>I'm facing a problem with my {product_purchase...</td>\n      <td>Closed</td>\n      <td>Case maybe show recently my computer follow.</td>\n      <td>Low</td>\n      <td>Social media</td>\n      <td>2023-06-01 11:14:38</td>\n      <td>2023-06-01 18:05:38</td>\n      <td>3.0</td>\n    </tr>\n    <tr>\n      <th>3</th>\n      <td>4</td>\n      <td>Christina Dillon</td>\n      <td>bradleyolson@example.org</td>\n      <td>27</td>\n      <td>Female</td>\n      <td>Microsoft Office</td>\n      <td>2020-11-13</td>\n      <td>Billing inquiry</td>\n      <td>Account access</td>\n      <td>I'm having an issue with the {product_purchase...</td>\n      <td>Closed</td>\n      <td>Try capital clearly never color toward story.</td>\n      <td>Low</td>\n      <td>Social media</td>\n      <td>2023-06-01 07:29:40</td>\n      <td>2023-06-01 01:57:40</td>\n      <td>3.0</td>\n    </tr>\n    <tr>\n      <th>4</th>\n      <td>5</td>\n      <td>Alexander Carroll</td>\n      <td>bradleymark@example.com</td>\n      <td>67</td>\n      <td>Female</td>\n      <td>Autodesk AutoCAD</td>\n      <td>2020-02-04</td>\n      <td>Billing inquiry</td>\n      <td>Data loss</td>\n      <td>I'm having an issue with the {product_purchase...</td>\n      <td>Closed</td>\n      <td>West decision evidence bit.</td>\n      <td>Low</td>\n      <td>Email</td>\n      <td>2023-06-01 00:12:42</td>\n      <td>2023-06-01 19:53:42</td>\n      <td>1.0</td>\n    </tr>\n    <tr>\n      <th>...</th>\n      <td>...</td>\n      <td>...</td>\n      <td>...</td>\n      <td>...</td>\n      <td>...</td>\n      <td>...</td>\n      <td>...</td>\n      <td>...</td>\n      <td>...</td>\n      <td>...</td>\n      <td>...</td>\n      <td>...</td>\n      <td>...</td>\n      <td>...</td>\n      <td>...</td>\n      <td>...</td>\n      <td>...</td>\n    </tr>\n    <tr>\n      <th>8464</th>\n      <td>8465</td>\n      <td>David Todd</td>\n      <td>adam28@example.net</td>\n      <td>22</td>\n      <td>Female</td>\n      <td>LG OLED</td>\n      <td>2021-12-08</td>\n      <td>Product inquiry</td>\n      <td>Installation support</td>\n      <td>My {product_purchased} is making strange noise...</td>\n      <td>Open</td>\n      <td>NaN</td>\n      <td>Low</td>\n      <td>Phone</td>\n      <td>NaN</td>\n      <td>NaN</td>\n      <td>NaN</td>\n    </tr>\n    <tr>\n      <th>8465</th>\n      <td>8466</td>\n      <td>Lori Davis</td>\n      <td>russell68@example.com</td>\n      <td>27</td>\n      <td>Female</td>\n      <td>Bose SoundLink Speaker</td>\n      <td>2020-02-22</td>\n      <td>Technical issue</td>\n      <td>Refund request</td>\n      <td>I'm having an issue with the {product_purchase...</td>\n      <td>Open</td>\n      <td>NaN</td>\n      <td>Critical</td>\n      <td>Email</td>\n      <td>NaN</td>\n      <td>NaN</td>\n      <td>NaN</td>\n    </tr>\n    <tr>\n      <th>8466</th>\n      <td>8467</td>\n      <td>Michelle Kelley</td>\n      <td>ashley83@example.org</td>\n      <td>57</td>\n      <td>Female</td>\n      <td>GoPro Action Camera</td>\n      <td>2021-08-17</td>\n      <td>Technical issue</td>\n      <td>Account access</td>\n      <td>I'm having an issue with the {product_purchase...</td>\n      <td>Closed</td>\n      <td>Eight account century nature kitchen.</td>\n      <td>High</td>\n      <td>Social media</td>\n      <td>2023-06-01 09:44:22</td>\n      <td>2023-06-01 04:31:22</td>\n      <td>3.0</td>\n    </tr>\n    <tr>\n      <th>8467</th>\n      <td>8468</td>\n      <td>Steven Rodriguez</td>\n      <td>fpowell@example.org</td>\n      <td>54</td>\n      <td>Male</td>\n      <td>PlayStation</td>\n      <td>2021-10-16</td>\n      <td>Product inquiry</td>\n      <td>Payment issue</td>\n      <td>I'm having an issue with the {product_purchase...</td>\n      <td>Closed</td>\n      <td>We seat culture plan.</td>\n      <td>Medium</td>\n      <td>Email</td>\n      <td>2023-06-01 18:28:24</td>\n      <td>2023-06-01 05:32:24</td>\n      <td>3.0</td>\n    </tr>\n    <tr>\n      <th>8468</th>\n      <td>8469</td>\n      <td>Steven Davis MD</td>\n      <td>lori20@example.net</td>\n      <td>53</td>\n      <td>Other</td>\n      <td>Philips Hue Lights</td>\n      <td>2020-06-01</td>\n      <td>Billing inquiry</td>\n      <td>Hardware issue</td>\n      <td>There seems to be a hardware problem with my {...</td>\n      <td>Open</td>\n      <td>NaN</td>\n      <td>High</td>\n      <td>Phone</td>\n      <td>NaN</td>\n      <td>NaN</td>\n      <td>NaN</td>\n    </tr>\n  </tbody>\n</table>\n<p>8469 rows × 17 columns</p>\n</div>"
          },
          "metadata": {}
        }
      ],
      "execution_count": 3,
      "metadata": {
        "gather": {
          "logged": 1761675722756
        }
      }
    },
    {
      "cell_type": "code",
      "source": [
        "# Let's work with a smaller sample for this demo to run fast\n",
        "df_sample = df.sample(n=500, random_state=42).copy()\n",
        "\n",
        "print(f\"Working with {len(df_sample)} tickets (out of {len(df)} total)\")\n",
        "df_sample.head()"
      ],
      "outputs": [
        {
          "output_type": "stream",
          "name": "stdout",
          "text": "Working with 500 tickets (out of 8469 total)\n"
        },
        {
          "output_type": "execute_result",
          "execution_count": 4,
          "data": {
            "text/plain": "      Ticket ID             Customer Name               Customer Email  \\\n4830       4831               James Smith          debra98@example.net   \n7075       7076                Erica Reed      carsonjames@example.net   \n4715       4716  Mrs. Madison Thompson MD      taylorjames@example.com   \n2022       2023               Sarah Nunez  martinezkenneth@example.org   \n676         677               James White       rivasdavid@example.org   \n\n      Customer Age Customer Gender    Product Purchased Date of Purchase  \\\n4830            69          Female  Roomba Robot Vacuum       2020-03-24   \n7075            64            Male  Roomba Robot Vacuum       2021-01-22   \n4715            41          Female   Philips Hue Lights       2020-06-07   \n2022            62           Other              LG OLED       2021-02-20   \n676             51          Female  Roomba Robot Vacuum       2021-08-01   \n\n          Ticket Type            Ticket Subject  \\\n4830   Refund request             Product setup   \n7075  Product inquiry              Battery life   \n4715  Billing inquiry            Refund request   \n2022  Billing inquiry  Peripheral compatibility   \n676    Refund request  Peripheral compatibility   \n\n                                     Ticket Description  \\\n4830  I'm having an issue with the {product_purchase...   \n7075  I'm having trouble connecting my {product_purc...   \n4715  I'm having an issue with the {product_purchase...   \n2022  I'm having an issue with the {product_purchase...   \n676   I'm having an issue with the {product_purchase...   \n\n                  Ticket Status                                   Resolution  \\\n4830  Pending Customer Response                                          NaN   \n7075                     Closed  Write economy could station face wall thus.   \n4715                       Open                                          NaN   \n2022                     Closed         Three his cut save upon animal have.   \n676                        Open                                          NaN   \n\n     Ticket Priority Ticket Channel  First Response Time   Time to Resolution  \\\n4830            High          Phone  2023-06-01 12:59:31                  NaN   \n7075             Low   Social media  2023-06-01 02:08:59  2023-06-01 10:49:59   \n4715             Low           Chat                  NaN                  NaN   \n2022            High   Social media  2023-06-01 13:54:11  2023-06-01 08:10:11   \n676           Medium   Social media                  NaN                  NaN   \n\n      Customer Satisfaction Rating  \n4830                           NaN  \n7075                           4.0  \n4715                           NaN  \n2022                           4.0  \n676                            NaN  ",
            "text/html": "<div>\n<style scoped>\n    .dataframe tbody tr th:only-of-type {\n        vertical-align: middle;\n    }\n\n    .dataframe tbody tr th {\n        vertical-align: top;\n    }\n\n    .dataframe thead th {\n        text-align: right;\n    }\n</style>\n<table border=\"1\" class=\"dataframe\">\n  <thead>\n    <tr style=\"text-align: right;\">\n      <th></th>\n      <th>Ticket ID</th>\n      <th>Customer Name</th>\n      <th>Customer Email</th>\n      <th>Customer Age</th>\n      <th>Customer Gender</th>\n      <th>Product Purchased</th>\n      <th>Date of Purchase</th>\n      <th>Ticket Type</th>\n      <th>Ticket Subject</th>\n      <th>Ticket Description</th>\n      <th>Ticket Status</th>\n      <th>Resolution</th>\n      <th>Ticket Priority</th>\n      <th>Ticket Channel</th>\n      <th>First Response Time</th>\n      <th>Time to Resolution</th>\n      <th>Customer Satisfaction Rating</th>\n    </tr>\n  </thead>\n  <tbody>\n    <tr>\n      <th>4830</th>\n      <td>4831</td>\n      <td>James Smith</td>\n      <td>debra98@example.net</td>\n      <td>69</td>\n      <td>Female</td>\n      <td>Roomba Robot Vacuum</td>\n      <td>2020-03-24</td>\n      <td>Refund request</td>\n      <td>Product setup</td>\n      <td>I'm having an issue with the {product_purchase...</td>\n      <td>Pending Customer Response</td>\n      <td>NaN</td>\n      <td>High</td>\n      <td>Phone</td>\n      <td>2023-06-01 12:59:31</td>\n      <td>NaN</td>\n      <td>NaN</td>\n    </tr>\n    <tr>\n      <th>7075</th>\n      <td>7076</td>\n      <td>Erica Reed</td>\n      <td>carsonjames@example.net</td>\n      <td>64</td>\n      <td>Male</td>\n      <td>Roomba Robot Vacuum</td>\n      <td>2021-01-22</td>\n      <td>Product inquiry</td>\n      <td>Battery life</td>\n      <td>I'm having trouble connecting my {product_purc...</td>\n      <td>Closed</td>\n      <td>Write economy could station face wall thus.</td>\n      <td>Low</td>\n      <td>Social media</td>\n      <td>2023-06-01 02:08:59</td>\n      <td>2023-06-01 10:49:59</td>\n      <td>4.0</td>\n    </tr>\n    <tr>\n      <th>4715</th>\n      <td>4716</td>\n      <td>Mrs. Madison Thompson MD</td>\n      <td>taylorjames@example.com</td>\n      <td>41</td>\n      <td>Female</td>\n      <td>Philips Hue Lights</td>\n      <td>2020-06-07</td>\n      <td>Billing inquiry</td>\n      <td>Refund request</td>\n      <td>I'm having an issue with the {product_purchase...</td>\n      <td>Open</td>\n      <td>NaN</td>\n      <td>Low</td>\n      <td>Chat</td>\n      <td>NaN</td>\n      <td>NaN</td>\n      <td>NaN</td>\n    </tr>\n    <tr>\n      <th>2022</th>\n      <td>2023</td>\n      <td>Sarah Nunez</td>\n      <td>martinezkenneth@example.org</td>\n      <td>62</td>\n      <td>Other</td>\n      <td>LG OLED</td>\n      <td>2021-02-20</td>\n      <td>Billing inquiry</td>\n      <td>Peripheral compatibility</td>\n      <td>I'm having an issue with the {product_purchase...</td>\n      <td>Closed</td>\n      <td>Three his cut save upon animal have.</td>\n      <td>High</td>\n      <td>Social media</td>\n      <td>2023-06-01 13:54:11</td>\n      <td>2023-06-01 08:10:11</td>\n      <td>4.0</td>\n    </tr>\n    <tr>\n      <th>676</th>\n      <td>677</td>\n      <td>James White</td>\n      <td>rivasdavid@example.org</td>\n      <td>51</td>\n      <td>Female</td>\n      <td>Roomba Robot Vacuum</td>\n      <td>2021-08-01</td>\n      <td>Refund request</td>\n      <td>Peripheral compatibility</td>\n      <td>I'm having an issue with the {product_purchase...</td>\n      <td>Open</td>\n      <td>NaN</td>\n      <td>Medium</td>\n      <td>Social media</td>\n      <td>NaN</td>\n      <td>NaN</td>\n      <td>NaN</td>\n    </tr>\n  </tbody>\n</table>\n</div>"
          },
          "metadata": {}
        }
      ],
      "execution_count": 4,
      "metadata": {
        "gather": {
          "logged": 1761675722889
        }
      }
    },
    {
      "cell_type": "code",
      "source": [
        "import sys\n",
        "import subprocess\n",
        "\n",
        "# Install the package using the specific Python executable for this kernel\n",
        "subprocess.check_call([sys.executable, \"-m\", \"pip\", \"install\", \"azure-ai-textanalytics\", \"--upgrade\"])\n",
        "\n",
        "print(\"Forced installation complete. Now, please try running the next cell (the 'import' cell) again.\")"
      ],
      "outputs": [
        {
          "output_type": "stream",
          "name": "stdout",
          "text": "Requirement already satisfied: azure-ai-textanalytics in /anaconda/envs/azureml_py310_sdkv2/lib/python3.10/site-packages (5.3.0)\nRequirement already satisfied: azure-core<2.0.0,>=1.24.0 in /anaconda/envs/azureml_py310_sdkv2/lib/python3.10/site-packages (from azure-ai-textanalytics) (1.35.0)\nRequirement already satisfied: azure-common~=1.1 in /anaconda/envs/azureml_py310_sdkv2/lib/python3.10/site-packages (from azure-ai-textanalytics) (1.1.28)\nRequirement already satisfied: isodate<1.0.0,>=0.6.1 in /anaconda/envs/azureml_py310_sdkv2/lib/python3.10/site-packages (from azure-ai-textanalytics) (0.7.2)\nRequirement already satisfied: typing-extensions>=4.0.1 in /anaconda/envs/azureml_py310_sdkv2/lib/python3.10/site-packages (from azure-ai-textanalytics) (4.14.1)\nRequirement already satisfied: requests>=2.21.0 in /anaconda/envs/azureml_py310_sdkv2/lib/python3.10/site-packages (from azure-core<2.0.0,>=1.24.0->azure-ai-textanalytics) (2.32.4)\nRequirement already satisfied: six>=1.11.0 in /anaconda/envs/azureml_py310_sdkv2/lib/python3.10/site-packages (from azure-core<2.0.0,>=1.24.0->azure-ai-textanalytics) (1.17.0)\nRequirement already satisfied: charset_normalizer<4,>=2 in /anaconda/envs/azureml_py310_sdkv2/lib/python3.10/site-packages (from requests>=2.21.0->azure-core<2.0.0,>=1.24.0->azure-ai-textanalytics) (3.4.2)\nRequirement already satisfied: idna<4,>=2.5 in /anaconda/envs/azureml_py310_sdkv2/lib/python3.10/site-packages (from requests>=2.21.0->azure-core<2.0.0,>=1.24.0->azure-ai-textanalytics) (3.10)\nRequirement already satisfied: urllib3<3,>=1.21.1 in /anaconda/envs/azureml_py310_sdkv2/lib/python3.10/site-packages (from requests>=2.21.0->azure-core<2.0.0,>=1.24.0->azure-ai-textanalytics) (2.5.0)\nRequirement already satisfied: certifi>=2017.4.17 in /anaconda/envs/azureml_py310_sdkv2/lib/python3.10/site-packages (from requests>=2.21.0->azure-core<2.0.0,>=1.24.0->azure-ai-textanalytics) (2025.7.9)\n"
        },
        {
          "output_type": "stream",
          "name": "stderr",
          "text": "\n\u001b[1m[\u001b[0m\u001b[34;49mnotice\u001b[0m\u001b[1;39;49m]\u001b[0m\u001b[39;49m A new release of pip is available: \u001b[0m\u001b[31;49m25.1.1\u001b[0m\u001b[39;49m -> \u001b[0m\u001b[32;49m25.3\u001b[0m\n\u001b[1m[\u001b[0m\u001b[34;49mnotice\u001b[0m\u001b[1;39;49m]\u001b[0m\u001b[39;49m To update, run: \u001b[0m\u001b[32;49m/anaconda/envs/azureml_py310_sdkv2/bin/python -m pip install --upgrade pip\u001b[0m\n"
        }
      ],
      "execution_count": 5,
      "metadata": {
        "gather": {
          "logged": 1761675724068
        }
      }
    },
    {
      "cell_type": "code",
      "source": [
        "from azure.ai.textanalytics import TextAnalyticsClient\n",
        "from azure.core.credentials import AzureKeyCredential\n",
        "\n",
        "# --- Paste your Key and Endpoint here ---\n",
        "language_key = \"Dfu9My0sTwhnpQ7hvuue87mlyLohOBiv7lhUA98wFId6OJFruxf3JQQJ99BJACGhslBXJ3w3AAAaACOGFZlQ\"\n",
        "language_endpoint = \"https://my-ticket-language-api.cognitiveservices.azure.com/\"\n",
        "# ----------------------------------------\n",
        "\n",
        "# Authenticate and create the client\n",
        "credential = AzureKeyCredential(language_key)\n",
        "text_analytics_client = TextAnalyticsClient(endpoint=language_endpoint, credential=credential)\n",
        "\n",
        "print(\"Azure AI Language client configured successfully!\")"
      ],
      "outputs": [
        {
          "output_type": "stream",
          "name": "stdout",
          "text": "Azure AI Language client configured successfully!\n"
        }
      ],
      "execution_count": 6,
      "metadata": {
        "gather": {
          "logged": 1761675724180
        }
      }
    },
    {
      "cell_type": "code",
      "source": [
        "def analyze_ticket_text(text):\n",
        "    try:\n",
        "        # --- Make the API call ---\n",
        "        # We ask for sentiment and key phrases in one call\n",
        "        result = text_analytics_client.analyze_sentiment(documents=[text])[0]\n",
        "        key_phrases_result = text_analytics_client.extract_key_phrases(documents=[text])[0]\n",
        "\n",
        "        # --- Return the results ---\n",
        "        # We ignore warnings and just get the main sentiment (positive, negative, neutral)\n",
        "        if not result.is_error:\n",
        "            sentiment = result.sentiment\n",
        "            positive_score = result.confidence_scores.positive\n",
        "            negative_score = result.confidence_scores.negative\n",
        "        else:\n",
        "            sentiment = 'error'\n",
        "            positive_score = 0\n",
        "            negative_score = 0\n",
        "\n",
        "        # We also get the list of key phrases\n",
        "        if not key_phrases_result.is_error:\n",
        "            key_phrases = key_phrases_result.key_phrases\n",
        "        else:\n",
        "            key_phrases = []\n",
        "\n",
        "        return {\n",
        "            'sentiment': sentiment,\n",
        "            'sentiment_positive_score': positive_score,\n",
        "            'sentiment_negative_score': negative_score,\n",
        "            'key_phrases': key_phrases\n",
        "        }\n",
        "    except Exception as e:\n",
        "        print(f\"Error analyzing text: {e}\")\n",
        "        return {\n",
        "            'sentiment': 'error',\n",
        "            'sentiment_positive_score': 0,\n",
        "            'sentiment_negative_score': 0,\n",
        "            'key_phrases': []\n",
        "        }\n",
        "\n",
        "# --- This is the line that runs the analysis ---\n",
        "# We apply the function to the 'Ticket Description' column.\n",
        "# This might take a minute or two for 500 rows.\n",
        "print(\"Starting text analysis for 500 tickets... (This may take a minute)\")\n",
        "\n",
        "enrichment_results = df_sample['Ticket Description'].apply(analyze_ticket_text)\n",
        "\n",
        "# --- Tidy up the results ---\n",
        "# We merge the new results (sentiment, key_phrases) back into our original DataFrame\n",
        "df_enriched = pd.concat([df_sample.reset_index(drop=True), pd.json_normalize(enrichment_results)], axis=1)\n",
        "\n",
        "print(\"Enrichment Complete!\")\n",
        "df_enriched.head()"
      ],
      "outputs": [
        {
          "output_type": "stream",
          "name": "stdout",
          "text": "Starting text analysis for 500 tickets... (This may take a minute)\nEnrichment Complete!\n"
        },
        {
          "output_type": "execute_result",
          "execution_count": 7,
          "data": {
            "text/plain": "   Ticket ID             Customer Name               Customer Email  \\\n0       4831               James Smith          debra98@example.net   \n1       7076                Erica Reed      carsonjames@example.net   \n2       4716  Mrs. Madison Thompson MD      taylorjames@example.com   \n3       2023               Sarah Nunez  martinezkenneth@example.org   \n4        677               James White       rivasdavid@example.org   \n\n   Customer Age Customer Gender    Product Purchased Date of Purchase  \\\n0            69          Female  Roomba Robot Vacuum       2020-03-24   \n1            64            Male  Roomba Robot Vacuum       2021-01-22   \n2            41          Female   Philips Hue Lights       2020-06-07   \n3            62           Other              LG OLED       2021-02-20   \n4            51          Female  Roomba Robot Vacuum       2021-08-01   \n\n       Ticket Type            Ticket Subject  \\\n0   Refund request             Product setup   \n1  Product inquiry              Battery life   \n2  Billing inquiry            Refund request   \n3  Billing inquiry  Peripheral compatibility   \n4   Refund request  Peripheral compatibility   \n\n                                  Ticket Description  ...  \\\n0  I'm having an issue with the {product_purchase...  ...   \n1  I'm having trouble connecting my {product_purc...  ...   \n2  I'm having an issue with the {product_purchase...  ...   \n3  I'm having an issue with the {product_purchase...  ...   \n4  I'm having an issue with the {product_purchase...  ...   \n\n                                    Resolution Ticket Priority Ticket Channel  \\\n0                                          NaN            High          Phone   \n1  Write economy could station face wall thus.             Low   Social media   \n2                                          NaN             Low           Chat   \n3         Three his cut save upon animal have.            High   Social media   \n4                                          NaN          Medium   Social media   \n\n   First Response Time   Time to Resolution Customer Satisfaction Rating  \\\n0  2023-06-01 12:59:31                  NaN                          NaN   \n1  2023-06-01 02:08:59  2023-06-01 10:49:59                          4.0   \n2                  NaN                  NaN                          NaN   \n3  2023-06-01 13:54:11  2023-06-01 08:10:11                          4.0   \n4                  NaN                  NaN                          NaN   \n\n   sentiment sentiment_positive_score  sentiment_negative_score  \\\n0   negative                     0.00                      0.76   \n1   negative                     0.00                      0.88   \n2      mixed                     0.32                      0.41   \n3   negative                     0.00                      0.70   \n4      mixed                     0.28                      0.44   \n\n                                         key_phrases  \n0  [issue, product, xda-developer, something, cac...  \n1  [home Wi-Fi network, available software update...  \n2           [issue, product, credit, security, data]  \n3  [peculiar error message, credit card, product ...  \n4  [sudden decrease, battery life, issue, product...  \n\n[5 rows x 21 columns]",
            "text/html": "<div>\n<style scoped>\n    .dataframe tbody tr th:only-of-type {\n        vertical-align: middle;\n    }\n\n    .dataframe tbody tr th {\n        vertical-align: top;\n    }\n\n    .dataframe thead th {\n        text-align: right;\n    }\n</style>\n<table border=\"1\" class=\"dataframe\">\n  <thead>\n    <tr style=\"text-align: right;\">\n      <th></th>\n      <th>Ticket ID</th>\n      <th>Customer Name</th>\n      <th>Customer Email</th>\n      <th>Customer Age</th>\n      <th>Customer Gender</th>\n      <th>Product Purchased</th>\n      <th>Date of Purchase</th>\n      <th>Ticket Type</th>\n      <th>Ticket Subject</th>\n      <th>Ticket Description</th>\n      <th>...</th>\n      <th>Resolution</th>\n      <th>Ticket Priority</th>\n      <th>Ticket Channel</th>\n      <th>First Response Time</th>\n      <th>Time to Resolution</th>\n      <th>Customer Satisfaction Rating</th>\n      <th>sentiment</th>\n      <th>sentiment_positive_score</th>\n      <th>sentiment_negative_score</th>\n      <th>key_phrases</th>\n    </tr>\n  </thead>\n  <tbody>\n    <tr>\n      <th>0</th>\n      <td>4831</td>\n      <td>James Smith</td>\n      <td>debra98@example.net</td>\n      <td>69</td>\n      <td>Female</td>\n      <td>Roomba Robot Vacuum</td>\n      <td>2020-03-24</td>\n      <td>Refund request</td>\n      <td>Product setup</td>\n      <td>I'm having an issue with the {product_purchase...</td>\n      <td>...</td>\n      <td>NaN</td>\n      <td>High</td>\n      <td>Phone</td>\n      <td>2023-06-01 12:59:31</td>\n      <td>NaN</td>\n      <td>NaN</td>\n      <td>negative</td>\n      <td>0.00</td>\n      <td>0.76</td>\n      <td>[issue, product, xda-developer, something, cac...</td>\n    </tr>\n    <tr>\n      <th>1</th>\n      <td>7076</td>\n      <td>Erica Reed</td>\n      <td>carsonjames@example.net</td>\n      <td>64</td>\n      <td>Male</td>\n      <td>Roomba Robot Vacuum</td>\n      <td>2021-01-22</td>\n      <td>Product inquiry</td>\n      <td>Battery life</td>\n      <td>I'm having trouble connecting my {product_purc...</td>\n      <td>...</td>\n      <td>Write economy could station face wall thus.</td>\n      <td>Low</td>\n      <td>Social media</td>\n      <td>2023-06-01 02:08:59</td>\n      <td>2023-06-01 10:49:59</td>\n      <td>4.0</td>\n      <td>negative</td>\n      <td>0.00</td>\n      <td>0.88</td>\n      <td>[home Wi-Fi network, available software update...</td>\n    </tr>\n    <tr>\n      <th>2</th>\n      <td>4716</td>\n      <td>Mrs. Madison Thompson MD</td>\n      <td>taylorjames@example.com</td>\n      <td>41</td>\n      <td>Female</td>\n      <td>Philips Hue Lights</td>\n      <td>2020-06-07</td>\n      <td>Billing inquiry</td>\n      <td>Refund request</td>\n      <td>I'm having an issue with the {product_purchase...</td>\n      <td>...</td>\n      <td>NaN</td>\n      <td>Low</td>\n      <td>Chat</td>\n      <td>NaN</td>\n      <td>NaN</td>\n      <td>NaN</td>\n      <td>mixed</td>\n      <td>0.32</td>\n      <td>0.41</td>\n      <td>[issue, product, credit, security, data]</td>\n    </tr>\n    <tr>\n      <th>3</th>\n      <td>2023</td>\n      <td>Sarah Nunez</td>\n      <td>martinezkenneth@example.org</td>\n      <td>62</td>\n      <td>Other</td>\n      <td>LG OLED</td>\n      <td>2021-02-20</td>\n      <td>Billing inquiry</td>\n      <td>Peripheral compatibility</td>\n      <td>I'm having an issue with the {product_purchase...</td>\n      <td>...</td>\n      <td>Three his cut save upon animal have.</td>\n      <td>High</td>\n      <td>Social media</td>\n      <td>2023-06-01 13:54:11</td>\n      <td>2023-06-01 08:10:11</td>\n      <td>4.0</td>\n      <td>negative</td>\n      <td>0.00</td>\n      <td>0.70</td>\n      <td>[peculiar error message, credit card, product ...</td>\n    </tr>\n    <tr>\n      <th>4</th>\n      <td>677</td>\n      <td>James White</td>\n      <td>rivasdavid@example.org</td>\n      <td>51</td>\n      <td>Female</td>\n      <td>Roomba Robot Vacuum</td>\n      <td>2021-08-01</td>\n      <td>Refund request</td>\n      <td>Peripheral compatibility</td>\n      <td>I'm having an issue with the {product_purchase...</td>\n      <td>...</td>\n      <td>NaN</td>\n      <td>Medium</td>\n      <td>Social media</td>\n      <td>NaN</td>\n      <td>NaN</td>\n      <td>NaN</td>\n      <td>mixed</td>\n      <td>0.28</td>\n      <td>0.44</td>\n      <td>[sudden decrease, battery life, issue, product...</td>\n    </tr>\n  </tbody>\n</table>\n<p>5 rows × 21 columns</p>\n</div>"
          },
          "metadata": {}
        }
      ],
      "execution_count": 7,
      "metadata": {
        "gather": {
          "logged": 1761675909225
        }
      }
    },
    {
      "cell_type": "code",
      "source": [
        "from sklearn.feature_extraction.text import TfidfVectorizer\n",
        "\n",
        "# 1. Get a single list of all unique key phrases\n",
        "# 'explode' turns each item in a list into its own row\n",
        "# 'dropna' removes any nulls\n",
        "# 'unique' gets us the final list of unique phrases\n",
        "all_phrases = df_enriched.explode('key_phrases')['key_phrases'].dropna().unique()\n",
        "\n",
        "print(f\"Total unique key phrases found: {len(all_phrases)}\")\n",
        "\n",
        "# 2. Create the Vectorizer\n",
        "# min_df=5 means \"ignore phrases that don't appear at least 5 times\" (filters out noise)\n",
        "vectorizer = TfidfVectorizer(min_df=5, stop_words='english')\n",
        "\n",
        "# 3. \"Fit\" the vectorizer to learn the vocabulary of our phrases\n",
        "tfidf_matrix = vectorizer.fit_transform(all_phrases)\n",
        "\n",
        "print(f\"Vectorized matrix shape: {tfidf_matrix.shape}\")"
      ],
      "outputs": [
        {
          "output_type": "stream",
          "name": "stdout",
          "text": "Total unique key phrases found: 881\nVectorized matrix shape: (881, 34)\n"
        }
      ],
      "execution_count": 8,
      "metadata": {
        "gather": {
          "logged": 1761675909463
        }
      }
    },
    {
      "cell_type": "code",
      "source": [
        "from sklearn.cluster import KMeans\n",
        "import mlflow\n",
        "\n",
        "num_clusters = 10  # This is our \"top 10 problems\"\n",
        "\n",
        "# 1. Create the K-Means model (already trained, but we'll re-run for simplicity)\n",
        "kmeans_model = KMeans(n_clusters=num_clusters, \n",
        "                      init='k-means++', \n",
        "                      max_iter=300, \n",
        "                      random_state=42,\n",
        "                      n_init=10) \n",
        "\n",
        "# 2. Train the model\n",
        "kmeans_model.fit(tfidf_matrix)\n",
        "\n",
        "print(\"K-Means model trained.\")\n",
        "\n",
        "# 3. Log the model (This is the corrected line)\n",
        "with mlflow.start_run():\n",
        "    mlflow.sklearn.log_model(kmeans_model, \"ticket_theme_cluster_model\")\n",
        "\n",
        "print(\"Model successfully logged to AML Workspace.\")"
      ],
      "outputs": [
        {
          "output_type": "stream",
          "name": "stdout",
          "text": "K-Means model trained.\nModel successfully logged to AML Workspace.\n"
        }
      ],
      "execution_count": 10,
      "metadata": {
        "gather": {
          "logged": 1761675966801
        }
      }
    },
    {
      "cell_type": "code",
      "source": [
        "# Map each phrase back to its cluster\n",
        "phrase_cluster_map = pd.DataFrame({'phrase': all_phrases})\n",
        "phrase_cluster_map['cluster'] = kmeans_model.labels_\n",
        "\n",
        "# Now, let's see the top 15 phrases in each cluster\n",
        "for i in range(num_clusters):\n",
        "    cluster_phrases = phrase_cluster_map[phrase_cluster_map['cluster'] == i]['phrase'].tolist()\n",
        "    \n",
        "    print(f\"\\n--- Cluster {i} (Theme) ---\")\n",
        "    \n",
        "    # Join the first 15 phrases with a comma\n",
        "    print(\", \".join(cluster_phrases[:15]))"
      ],
      "outputs": [
        {
          "output_type": "stream",
          "name": "stdout",
          "text": "\n--- Cluster 0 (Theme) ---\nissue, xda-developer, something, cache, data, home Wi-Fi network, available software updates, other devices, trouble, networks, none, credit, security, peculiar error message, credit card\n\n--- Cluster 1 (Theme) ---\nProduct number, limited number, same number, phone number, number, telephone number, valid state number\n\n--- Cluster 2 (Theme) ---\nproduct, product pricing, product costs, product description, Product Details, full product, first product, product item, Product, Product ID, most product, original product, Product purchases, right product, product name\n\n--- Cluster 3 (Theme) ---\nnew game, new\" product, new product, new cart, new products, new Product, new {product_name, FREE new product, new, New Zealand, new app, new iPhone, new prices, new device, new item name\n\n--- Cluster 4 (Theme) ---\naccount, product_purchased} account, account holder, 4K account, Account\" feature, account name, new account, Create Account, separate account, Account manager\n\n--- Cluster 5 (Theme) ---\npost, Post, future post, earlier post, original post, POST, short post\n\n--- Cluster 6 (Theme) ---\nlatest version, updated version, small, version, affected version, Sustainable' version, last version\n\n--- Cluster 7 (Theme) ---\npurchase, Product Purchase Policy, purchase page, The Product Purchase Policy, product purchase, purchase' window, current purchase, purchase confirmation, public void purchase\n\n--- Cluster 8 (Theme) ---\ndifferent cables, different settings, different uses, different versions, different browser, different color\n\n--- Cluster 9 (Theme) ---\naddress, valid email address, email address, web address, Paypal/Email address, wrong address, payment address\n"
        }
      ],
      "execution_count": 11,
      "metadata": {
        "gather": {
          "logged": 1761676103584
        }
      }
    },
    {
      "cell_type": "code",
      "source": [
        "# 1. Create a mapping of {phrase: cluster_number}\n",
        "# We use the 'phrase_cluster_map' we just created\n",
        "phrase_to_cluster = phrase_cluster_map.set_index('phrase')['cluster'].to_dict()\n",
        "\n",
        "# 2. Map each ticket's key phrases to their cluster numbers\n",
        "def map_phrases_to_clusters(phrase_list):\n",
        "    # Look up each phrase, get its cluster, and return a unique set of cluster numbers\n",
        "    # We also ignore phrases that were filtered out (not in the dict)\n",
        "    return list(set(phrase_to_cluster.get(p) for p in phrase_list if p in phrase_to_cluster))\n",
        "\n",
        "# Apply this function to our main dataframe\n",
        "df_enriched['clusters'] = df_enriched['key_phrases'].apply(map_phrases_to_clusters)\n",
        "\n",
        "# 3. Explode the DataFrame so each ticket-cluster pair is a row\n",
        "# A ticket with clusters [0, 7] becomes two rows\n",
        "df_cluster_analysis = df_enriched.explode('clusters').dropna(subset=['clusters'])\n",
        "\n",
        "# 4. NOW, group by cluster and check the average negative sentiment\n",
        "sentiment_by_cluster = df_cluster_analysis.groupby('clusters')['sentiment_negative_score'].mean().sort_values(ascending=False)\n",
        "\n",
        "# 5. Let's add the names we just analyzed to make a nice report\n",
        "# (You can edit these names based on your own analysis)\n",
        "cluster_names = {\n",
        "    0: \"Technical & Billing Issues\",\n",
        "    1: \"Contact/Product Numbers\",\n",
        "    2: \"Product Information\",\n",
        "    3: \"New Products\",\n",
        "    4: \"Account Management\",\n",
        "    5: \"Social Media/Forum Posts\",\n",
        "    6: \"Software/Product Versions\",\n",
        "    7: \"Purchasing Process\",\n",
        "    8: \"Compatibility/Options\",\n",
        "    9: \"Address/Email Issues\"\n",
        "}\n",
        "\n",
        "# Map the names to the results\n",
        "final_report = sentiment_by_cluster.to_frame()\n",
        "final_report['Theme Name'] = final_report.index.map(cluster_names)\n",
        "\n",
        "print(\"\\n--- 🏁 Final Report: Average Negative Sentiment by Problem Theme ---\")\n",
        "print(final_report)"
      ],
      "outputs": [
        {
          "output_type": "stream",
          "name": "stdout",
          "text": "\n--- 🏁 Final Report: Average Negative Sentiment by Problem Theme ---\n          sentiment_negative_score                  Theme Name\nclusters                                                      \n4                         0.814286          Account Management\n7                         0.759231          Purchasing Process\n9                         0.707500        Address/Email Issues\n8                         0.693846       Compatibility/Options\n0                         0.691280  Technical & Billing Issues\n6                         0.688750   Software/Product Versions\n2                         0.658169         Product Information\n5                         0.647143    Social Media/Forum Posts\n1                         0.622857     Contact/Product Numbers\n3                         0.594211                New Products\n"
        }
      ],
      "execution_count": 12,
      "metadata": {
        "gather": {
          "logged": 1761676175305
        }
      }
    },
    {
      "cell_type": "code",
      "source": [],
      "outputs": [],
      "execution_count": null,
      "metadata": {}
    }
  ],
  "metadata": {
    "kernelspec": {
      "name": "python310-sdkv2",
      "language": "python",
      "display_name": "Python 3.10 - SDK v2"
    },
    "language_info": {
      "name": "python",
      "version": "3.10.18",
      "mimetype": "text/x-python",
      "codemirror_mode": {
        "name": "ipython",
        "version": 3
      },
      "pygments_lexer": "ipython3",
      "nbconvert_exporter": "python",
      "file_extension": ".py"
    },
    "microsoft": {
      "ms_spell_check": {
        "ms_spell_check_language": "en"
      }
    },
    "kernel_info": {
      "name": "python310-sdkv2"
    },
    "nteract": {
      "version": "nteract-front-end@1.0.0"
    }
  },
  "nbformat": 4,
  "nbformat_minor": 2
}